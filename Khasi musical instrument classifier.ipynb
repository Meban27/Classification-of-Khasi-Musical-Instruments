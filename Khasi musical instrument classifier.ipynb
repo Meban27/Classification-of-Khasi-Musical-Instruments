{
 "cells": [
  {
   "cell_type": "code",
   "execution_count": 1,
   "id": "75c66c1e-1f42-4373-a5e7-3aa31ad543a0",
   "metadata": {},
   "outputs": [],
   "source": [
    "import pandas as pd\n",
    "import numpy as np\n",
    "from sklearn.tree import DecisionTreeClassifier\n",
    "from sklearn.ensemble import RandomForestClassifier\n",
    "from sklearn.neural_network import MLPClassifier\n",
    "from sklearn.metrics import accuracy_score,classification_report"
   ]
  },
  {
   "cell_type": "code",
   "execution_count": 4,
   "id": "09e6ccab-e81f-41b8-ac80-00f19803de6a",
   "metadata": {},
   "outputs": [],
   "source": [
    "train_file_path='Khasi_mapped_Train.xlsx'\n",
    "test_file_path='Khasi_mapped_Test2.xlsx'\n",
    "train_data=pd.read_excel(train_file_path)\n",
    "test_data=pd.read_excel(test_file_path)"
   ]
  },
  {
   "cell_type": "code",
   "execution_count": 3,
   "id": "768de731-263e-4f45-b787-789104765acb",
   "metadata": {},
   "outputs": [],
   "source": [
    "y_train=train_data.Instrument_mapping\n",
    "y_test=test_data.Instrument_mapping"
   ]
  },
  {
   "cell_type": "code",
   "execution_count": 18,
   "id": "4efaffbf-6288-45c4-8080-84e45c86e0de",
   "metadata": {},
   "outputs": [],
   "source": [
    "train_features=['adsr','zero_crossing_rate','spectral_centroid','spectral_rolloff','spectral_flux']\n",
    "x_train=train_data[train_features]\n",
    "x_test=test_data[train_features]"
   ]
  },
  {
   "cell_type": "code",
   "execution_count": 41,
   "id": "81378ede-af0f-4670-817a-4fe04f887a8c",
   "metadata": {},
   "outputs": [
    {
     "name": "stdout",
     "output_type": "stream",
     "text": [
      "Accuracy: 0.8979591836734694\n"
     ]
    }
   ],
   "source": [
    "model1=RandomForestClassifier(random_state=1,n_estimators=20,max_depth=4)\n",
    "model1.fit(x_train,y_train)\n",
    "prediction1=model1.predict(x_test)\n",
    "accuracy1 = accuracy_score(y_test, prediction1)\n",
    "print(f\"Accuracy: {accuracy1}\")\n"
   ]
  },
  {
   "cell_type": "markdown",
   "id": "41a8c452-7524-4b92-918f-9b97722658cd",
   "metadata": {},
   "source": [
    "#### "
   ]
  },
  {
   "cell_type": "code",
   "execution_count": 42,
   "id": "a9eec09d-f8fe-4e32-bf0a-ddc9a5d5a4bf",
   "metadata": {},
   "outputs": [
    {
     "name": "stdout",
     "output_type": "stream",
     "text": [
      "Classification Report:\n",
      "              precision    recall  f1-score   support\n",
      "\n",
      "           1       1.00      0.71      0.83         7\n",
      "           2       1.00      1.00      1.00         7\n",
      "           3       1.00      1.00      1.00         7\n",
      "           4       1.00      1.00      1.00         7\n",
      "           5       0.83      0.71      0.77         7\n",
      "           6       0.75      0.86      0.80         7\n",
      "           7       0.78      1.00      0.88         7\n",
      "\n",
      "    accuracy                           0.90        49\n",
      "   macro avg       0.91      0.90      0.90        49\n",
      "weighted avg       0.91      0.90      0.90        49\n",
      "\n"
     ]
    }
   ],
   "source": [
    "print(\"Classification Report:\")\n",
    "print(classification_report(y_test, prediction1))"
   ]
  },
  {
   "cell_type": "code",
   "execution_count": 70,
   "id": "6a416bbf-93f7-493d-bb5f-97cb08333a9a",
   "metadata": {},
   "outputs": [
    {
     "name": "stdout",
     "output_type": "stream",
     "text": [
      "Accuracy: 0.8979591836734694\n"
     ]
    }
   ],
   "source": [
    "model2=DecisionTreeClassifier(random_state=1)\n",
    "model2.fit(x_train,y_train)\n",
    "prediction2=model2.predict(x_test)\n",
    "\n",
    "accuracy2= accuracy_score(y_test, prediction2)\n",
    "print(f\"Accuracy: {accuracy2}\")"
   ]
  },
  {
   "cell_type": "code",
   "execution_count": 47,
   "id": "4d9936e4-fa3e-45ee-bef2-c7af3e88eadb",
   "metadata": {},
   "outputs": [
    {
     "name": "stdout",
     "output_type": "stream",
     "text": [
      "accuracy:0.8571428571428571\n"
     ]
    }
   ],
   "source": [
    "from sklearn.neighbors import KNeighborsClassifier\n",
    "model4 = KNeighborsClassifier()\n",
    "model4.fit(x_train, y_train)\n",
    "prediction4=model4.predict(x_test)\n",
    "\n",
    "accuracy4=accuracy_score(y_test,prediction4)\n",
    "print(f\"accuracy:{accuracy4}\")"
   ]
  },
  {
   "cell_type": "code",
   "execution_count": 58,
   "id": "ae3c81a1-0676-4e0a-854b-8d482ea7c3ef",
   "metadata": {},
   "outputs": [
    {
     "name": "stdout",
     "output_type": "stream",
     "text": [
      "Accuracy: 0.7959183673469388\n"
     ]
    }
   ],
   "source": [
    "from sklearn.neural_network import MLPClassifier\n",
    "from sklearn.preprocessing import StandardScaler\n",
    "scaler = StandardScaler()\n",
    "x_train_scaled = scaler.fit_transform(x_train)\n",
    "x_test_scaled = scaler.transform(x_test)\n",
    "model3=MLPClassifier(max_iter=2000, hidden_layer_sizes=(10,),random_state=1)\n",
    "model3.fit(x_train_scaled,y_train)\n",
    "prediction3=model3.predict(x_test_scaled)\n",
    "accuracy3 = accuracy_score(y_test, prediction3)\n",
    "print(f\"Accuracy: {accuracy3}\")\n",
    "\n",
    "\n"
   ]
  },
  {
   "cell_type": "code",
   "execution_count": 75,
   "id": "550759ed-313f-4d1f-be11-f76d22f220fe",
   "metadata": {},
   "outputs": [
    {
     "name": "stdout",
     "output_type": "stream",
     "text": [
      "Accuracy of Random Forest Classifier:\t\t 0.8979591836734694\n",
      "Accuracy of Decision Tree Classifier:\t\t 0.8979591836734694\n",
      "Accuracy of MLP Classifier:\t\t\t 0.7959183673469388\n",
      "Accuracy of KNeighbors Classifier:\t\t 0.8571428571428571\n"
     ]
    }
   ],
   "source": [
    "print(f\"Accuracy of Random Forest Classifier:\\t\\t {accuracy1}\")\n",
    "print(f\"Accuracy of Decision Tree Classifier:\\t\\t {accuracy2}\")\n",
    "print(f\"Accuracy of MLP Classifier:\\t\\t\\t {accuracy3}\")\n",
    "print(f\"Accuracy of KNeighbors Classifier:\\t\\t {accuracy4}\")"
   ]
  },
  {
   "cell_type": "code",
   "execution_count": null,
   "id": "705f00ca-96d6-4fd9-9f56-fe850fd8c9b9",
   "metadata": {},
   "outputs": [],
   "source": []
  }
 ],
 "metadata": {
  "kernelspec": {
   "display_name": "Python 3 (ipykernel)",
   "language": "python",
   "name": "python3"
  },
  "language_info": {
   "codemirror_mode": {
    "name": "ipython",
    "version": 3
   },
   "file_extension": ".py",
   "mimetype": "text/x-python",
   "name": "python",
   "nbconvert_exporter": "python",
   "pygments_lexer": "ipython3",
   "version": "3.11.7"
  }
 },
 "nbformat": 4,
 "nbformat_minor": 5
}
